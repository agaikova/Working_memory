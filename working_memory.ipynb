{
 "cells": [
  {
   "cell_type": "code",
   "execution_count": 2,
   "metadata": {
    "collapsed": true
   },
   "outputs": [],
   "source": [
    "%matplotlib inline\n",
    "import pylab\n",
    "import numpy as np\n",
    "import nengo\n",
    "import nengo.spa as spa"
   ]
  },
  {
   "cell_type": "code",
   "execution_count": 19,
   "metadata": {
    "collapsed": true
   },
   "outputs": [],
   "source": [
    "dimensions = 10\n",
    "input_scale = 1\n",
    "n_neurons_per_dim = 50\n",
    "intercept_low = -0.5\n",
    "intercept_high = 1.0\n",
    "tau_input = 0.01\n",
    "tau_recurrent = 0.1\n",
    "tau_reset = 0.2\n",
    "max_rate_high = 200\n",
    "max_rate_low = 150\n",
    "sensory_delay = 0.05\n",
    "reset_scale = 0.3\n",
    "\n",
    "model = nengo.Network()\n",
    "with model:\n",
    "    vocab = spa.Vocabulary(dimensions)\n",
    "    value = vocab.parse('A').v\n",
    "    \n",
    "    def stim(t):\n",
    "        if 0.5 < t - sensory_delay < 0.75:\n",
    "            return value\n",
    "        else:\n",
    "            return [0]*dimensions\n",
    "    stim = nengo.Node(stim)\n",
    "    \n",
    "    a = nengo.Ensemble(n_neurons=n_neurons_per_dim * dimensions,\n",
    "                       dimensions=dimensions,\n",
    "                       max_rates=nengo.dists.Uniform(max_rate_low, max_rate_high),\n",
    "                       intercepts=nengo.dists.Uniform(intercept_low, intercept_high))\n",
    "    \n",
    "    b = nengo.Ensemble(n_neurons=n_neurons_per_dim * dimensions,\n",
    "                       dimensions=dimensions,\n",
    "                       max_rates=nengo.dists.Uniform(max_rate_low, max_rate_high),\n",
    "                       intercepts=nengo.dists.Uniform(intercept_low, intercept_high))\n",
    "    \n",
    "    nengo.Connection(stim, a, synapse=None)\n",
    "    nengo.Connection(a, b, synapse=tau_input, transform=input_scale)\n",
    "    nengo.Connection(b, b, synapse=tau_recurrent)\n",
    "    \n",
    "    def reset(t):\n",
    "        if t - sensory_delay > 1.75:\n",
    "            return 1\n",
    "        else:\n",
    "            return 0\n",
    "    reset_stim = nengo.Node(reset)\n",
    "    reset_value = vocab.parse('B').v\n",
    "    reset_value.shape = dimensions, 1\n",
    "    nengo.Connection(reset_stim, b.neurons, transform=np.ones((b.n_neurons, 1))*-reset_scale, synapse=tau_reset)\n",
    "    #nengo.Connection(reset_stim, b, transform=reset_value*reset_scale, synapse=tau_reset)\n",
    "    \n",
    "    p_value = nengo.Probe(b, synapse=0.01)\n",
    "    p_neurons = nengo.Probe(b.neurons)"
   ]
  },
  {
   "cell_type": "code",
   "execution_count": 20,
   "metadata": {
    "collapsed": false
   },
   "outputs": [
    {
     "name": "stdout",
     "output_type": "stream",
     "text": [
      "\r",
      "Simulation finished in 0:00:01.                                                 \n"
     ]
    }
   ],
   "source": [
    "sim = nengo.Simulator(model)\n",
    "sim.run(2.5)"
   ]
  },
  {
   "cell_type": "code",
   "execution_count": 21,
   "metadata": {
    "collapsed": false
   },
   "outputs": [
    {
     "data": {
      "image/png": "[encoded data removed]",
      "text/plain": [
       "<matplotlib.figure.Figure at 0x7f7f69a7ac50>"
      ]
     },
     "metadata": {},
     "output_type": "display_data"
    }
   ],
   "source": [
    "rates = sim.data[p_neurons]\n",
    "ratesf = nengo.synapses.Lowpass(0.05).filt(rates)\n",
    "y_axis = np.mean(ratesf, axis=1)\n",
    "#print(y_axis)\n",
    "pylab.plot(sim.trange(),y_axis)\n",
    "pylab.axvline(0.5)\n",
    "pylab.axvline(0.75)\n",
    "pylab.axvline(1.75)\n",
    "pylab.show()"
   ]
  },
  {
   "cell_type": "code",
   "execution_count": 22,
   "metadata": {
    "collapsed": false
   },
   "outputs": [
    {
     "name": "stdout",
     "output_type": "stream",
     "text": [
      "N= 184\n"
     ]
    },
    {
     "data": {
      "image/png": "[encoded data removed]",
      "text/plain": [
       "<matplotlib.figure.Figure at 0x7f7f69a90050>"
      ]
     },
     "metadata": {},
     "output_type": "display_data"
    },
    {
     "name": "stdout",
     "output_type": "stream",
     "text": [
      "[802]\n",
      "23.672060523 59.2388112164 121.250763718\n"
     ]
    }
   ],
   "source": [
    "encs = sim.data[b].encoders\n",
    "similarity = np.dot(encs, value)\n",
    "items = np.where(similarity>0.1)   # TODO: What is this threshold in the real data?\n",
    "print 'N= %d' % len(items[0])\n",
    "\n",
    "y_axis = np.mean(ratesf[:,items[0]], axis=1)\n",
    "pylab.plot(sim.trange(), y_axis)\n",
    "pylab.axvline(0.5)\n",
    "pylab.axvline(0.75)\n",
    "pylab.axvline(1.75)\n",
    "pylab.show()\n",
    "act_500= y_axis[500]\n",
    "act_1750 = y_axis[1750]\n",
    "z =np.where(y_axis == y_axis.max())[0]\n",
    "print z\n",
    "peak = y_axis[800]\n",
    "\n",
    "print act_500, act_1750, peak"
   ]
  },
  {
   "cell_type": "code",
   "execution_count": null,
   "metadata": {
    "collapsed": true
   },
   "outputs": [],
   "source": []
  }
 ],
 "metadata": {
  "kernelspec": {
   "display_name": "Python 2",
   "language": "python",
   "name": "python2"
  },
  "language_info": {
   "codemirror_mode": {
    "name": "ipython",
    "version": 2
   },
   "file_extension": ".py",
   "mimetype": "text/x-python",
   "name": "python",
   "nbconvert_exporter": "python",
   "pygments_lexer": "ipython2",
   "version": "2.7.9"
  }
 },
 "nbformat": 4,
 "nbformat_minor": 0
}
