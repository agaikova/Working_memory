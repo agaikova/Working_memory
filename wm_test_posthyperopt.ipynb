{
 "cells": [
  {
   "cell_type": "code",
   "execution_count": 2,
   "metadata": {
    "collapsed": true
   },
   "outputs": [],
   "source": [
    "import numpy as np\n",
    "import nengo\n",
    "from nengo import spa\n",
    "import ctn_benchmark"
   ]
  },
  {
   "cell_type": "code",
   "execution_count": 3,
   "metadata": {
    "collapsed": false
   },
   "outputs": [
    {
     "data": {
      "text/plain": [
       "<module 'working_memory_benchmarks_posthyperopt' from 'working_memory_benchmarks_posthyperopt.pyc'>"
      ]
     },
     "execution_count": 3,
     "metadata": {},
     "output_type": "execute_result"
    }
   ],
   "source": [
    "import working_memory_benchmarks_posthyperopt\n",
    "reload(working_memory_benchmarks_posthyperopt)"
   ]
  },
  {
   "cell_type": "code",
   "execution_count": 10,
   "metadata": {
    "collapsed": false
   },
   "outputs": [
    {
     "name": "stdout",
     "output_type": "stream",
     "text": [
      "running Working_Memory#20160803-161452-6fe15378\n",
      "Simulation finished in 0:00:02.                                                 \n",
      "_dimensions = 10\n",
      "_input_scale = 0.718662611238822\n",
      "_n_neurons_per_dim = 50\n",
      "_intercept_low = -0.3728361486833539\n",
      "_intercept_high = 0.8787464079769038\n",
      "_tau_input = 0.0025698587259765137\n",
      "_tau_recurrent = 0.19999696242042547\n",
      "_tau_reset = 0.016260058596089755\n",
      "_max_rate_high = 185.2649479566767\n",
      "_max_rate_low = 103.97384797884702\n",
      "_sensory_delay = 0.05\n",
      "_reset_scale = 0.3\n",
      "_filter_threshold = 0.07269448549564525\n",
      "_backend = 'nengo'\n",
      "_dt = 0.001\n",
      "_seed = 1\n",
      "_hide_overlay = False\n",
      "_gui = False\n",
      "N = 216\n",
      "act_1750 = 35.466773964958264\n",
      "act_500 = 10.365726203350867\n",
      "peak = 52.110469944814071\n"
     ]
    },
    {
     "data": {
      "text/plain": [
       "{'N': 216,\n",
       " 'act_1750': 35.466773964958264,\n",
       " 'act_500': 10.365726203350867,\n",
       " 'peak': 52.110469944814071}"
      ]
     },
     "execution_count": 10,
     "metadata": {},
     "output_type": "execute_result"
    }
   ],
   "source": [
    "working_memory_benchmarks_posthyperopt.Working_Memory().run(seed = 1)"
   ]
  },
  {
   "cell_type": "code",
   "execution_count": null,
   "metadata": {
    "collapsed": true
   },
   "outputs": [],
   "source": []
  }
 ],
 "metadata": {
  "kernelspec": {
   "display_name": "Python 2",
   "language": "python",
   "name": "python2"
  },
  "language_info": {
   "codemirror_mode": {
    "name": "ipython",
    "version": 2
   },
   "file_extension": ".py",
   "mimetype": "text/x-python",
   "name": "python",
   "nbconvert_exporter": "python",
   "pygments_lexer": "ipython2",
   "version": "2.7.9"
  }
 },
 "nbformat": 4,
 "nbformat_minor": 0
}
