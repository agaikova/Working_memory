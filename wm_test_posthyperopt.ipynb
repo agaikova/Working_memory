{
 "cells": [
  {
   "cell_type": "code",
   "execution_count": 3,
   "metadata": {
    "collapsed": true
   },
   "outputs": [],
   "source": [
    "import numpy as np\n",
    "import nengo\n",
    "from nengo import spa\n",
    "import ctn_benchmark"
   ]
  },
  {
   "cell_type": "code",
   "execution_count": 33,
   "metadata": {
    "collapsed": false
   },
   "outputs": [
    {
     "data": {
      "text/plain": [
       "<module 'wm_benchmark_04' from 'wm_benchmark_04.pyc'>"
      ]
     },
     "execution_count": 33,
     "metadata": {},
     "output_type": "execute_result"
    }
   ],
   "source": [
    "import wm_benchmark_00\n",
    "reload(wm_benchmark_00)\n",
    "import wm_benchmark_02\n",
    "reload(wm_benchmark_02)\n",
    "import wm_benchmark_04\n",
    "reload (wm_benchmark_04)"
   ]
  },
  {
   "cell_type": "code",
   "execution_count": 34,
   "metadata": {
    "collapsed": false
   },
   "outputs": [
    {
     "name": "stdout",
     "output_type": "stream",
     "text": [
      "running Working_Memory#20160805-121902-47c2b54f\n",
      "Simulation finished in 0:00:01.                                                 \n",
      "_dimensions = 10\n",
      "_input_scale = 0.38314316705290097\n",
      "_n_neurons_per_dim = 50\n",
      "_intercept_low = -0.4989080091138938\n",
      "_intercept_high = 0.5963158879085206\n",
      "_tau_input = 0.009683186948674292\n",
      "_tau_recurrent = 0.1959772077772586\n",
      "_tau_reset = 0.1376503648029975\n",
      "_max_rate_high = 225.01822297425895\n",
      "_max_rate_low = 130.69268975236358\n",
      "_sensory_delay = 0.05\n",
      "_reset_scale = 0.3\n",
      "_filter_threshold = 0.0\n",
      "_backend = 'nengo'\n",
      "_dt = 0.001\n",
      "_seed = 3\n",
      "_hide_overlay = False\n",
      "_gui = False\n",
      "N = 234\n",
      "act_1750 = 41.594847361381049\n",
      "act_510 = 25.157118313195202\n",
      "peak = 49.391438435200371\n"
     ]
    },
    {
     "data": {
      "text/plain": [
       "{'N': 234,\n",
       " 'act_1750': 41.594847361381049,\n",
       " 'act_510': 25.157118313195202,\n",
       " 'peak': 49.391438435200371}"
      ]
     },
     "execution_count": 34,
     "metadata": {},
     "output_type": "execute_result"
    }
   ],
   "source": [
    "wm_benchmark_00.Working_Memory().run(seed = 3)"
   ]
  },
  {
   "cell_type": "markdown",
   "metadata": {
    "collapsed": true
   },
   "source": [
    "This is pretty close (we want act_510 to be ~ 28 spikes/s, act_1750 to be ~ 34 spikes/s, and the peak rate to be ~ 53 spikes/s). "
   ]
  },
  {
   "cell_type": "code",
   "execution_count": 30,
   "metadata": {
    "collapsed": false
   },
   "outputs": [
    {
     "name": "stdout",
     "output_type": "stream",
     "text": [
      "running Working_Memory#20160805-121612-47c2b54f\n",
      "Simulation finished in 0:00:01.                                                 \n",
      "_dimensions = 10\n",
      "_input_scale = 0.3833780061255102\n",
      "_n_neurons_per_dim = 50\n",
      "_intercept_low = -0.4992744299277808\n",
      "_intercept_high = 0.809991052831423\n",
      "_tau_input = 0.013502354155587815\n",
      "_tau_recurrent = 0.19573723138942678\n",
      "_tau_reset = 0.07956492225081398\n",
      "_max_rate_high = 197.19119519297644\n",
      "_max_rate_low = 119.17285810399966\n",
      "_sensory_delay = 0.05\n",
      "_reset_scale = 0.3\n",
      "_filter_threshold = 0.0\n",
      "_backend = 'nengo'\n",
      "_dt = 0.001\n",
      "_seed = 3\n",
      "_hide_overlay = False\n",
      "_gui = False\n",
      "N = 234\n",
      "act_1750 = 32.034253073442365\n",
      "act_510 = 19.694909759747645\n",
      "peak = 35.706566336129207\n"
     ]
    },
    {
     "data": {
      "text/plain": [
       "{'N': 234,\n",
       " 'act_1750': 32.034253073442365,\n",
       " 'act_510': 19.694909759747645,\n",
       " 'peak': 35.706566336129207}"
      ]
     },
     "execution_count": 30,
     "metadata": {},
     "output_type": "execute_result"
    }
   ],
   "source": [
    "wm_benchmark_02.Working_Memory().run(seed = 3)"
   ]
  },
  {
   "cell_type": "markdown",
   "metadata": {},
   "source": [
    "These values are further from the the expected values. "
   ]
  },
  {
   "cell_type": "code",
   "execution_count": 37,
   "metadata": {
    "collapsed": false
   },
   "outputs": [
    {
     "name": "stdout",
     "output_type": "stream",
     "text": [
      "running Working_Memory#20160805-122700-00a601b7\n",
      "Simulation finished in 0:00:01.                                                 \n",
      "_dimensions = 10\n",
      "_input_scale = 0.1086521264298292\n",
      "_n_neurons_per_dim = 50\n",
      "_intercept_low = -0.4986753102824562\n",
      "_intercept_high = 0.5627377682692168\n",
      "_tau_input = 0.00222577425747703\n",
      "_tau_recurrent = 0.18286600309425424\n",
      "_tau_reset = 0.10423573561783896\n",
      "_max_rate_high = 236.700401176162\n",
      "_max_rate_low = 148.35745250164726\n",
      "_sensory_delay = 0.05\n",
      "_reset_scale = 0.3\n",
      "_filter_threshold = 0.0\n",
      "_backend = 'nengo'\n",
      "_dt = 0.001\n",
      "_seed = 4\n",
      "_hide_overlay = False\n",
      "_gui = False\n",
      "N = 237\n",
      "act_1750 = 32.887807444158597\n",
      "act_510 = 29.285198332575341\n",
      "peak = 36.314850848243488\n"
     ]
    },
    {
     "data": {
      "text/plain": [
       "{'N': 237,\n",
       " 'act_1750': 32.887807444158597,\n",
       " 'act_510': 29.285198332575341,\n",
       " 'peak': 36.314850848243488}"
      ]
     },
     "execution_count": 37,
     "metadata": {},
     "output_type": "execute_result"
    }
   ],
   "source": [
    "wm_benchmark_04.Working_Memory().run(seed = 4)"
   ]
  },
  {
   "cell_type": "markdown",
   "metadata": {},
   "source": [
    "These values are also close, but the peak isn't as high as it should be. "
   ]
  }
 ],
 "metadata": {
  "kernelspec": {
   "display_name": "Python 2",
   "language": "python",
   "name": "python2"
  },
  "language_info": {
   "codemirror_mode": {
    "name": "ipython",
    "version": 2
   },
   "file_extension": ".py",
   "mimetype": "text/x-python",
   "name": "python",
   "nbconvert_exporter": "python",
   "pygments_lexer": "ipython2",
   "version": "2.7.9"
  }
 },
 "nbformat": 4,
 "nbformat_minor": 0
}
